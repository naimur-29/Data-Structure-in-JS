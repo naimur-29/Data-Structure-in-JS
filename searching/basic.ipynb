{
 "cells": [
  {
   "attachments": {},
   "cell_type": "markdown",
   "metadata": {},
   "source": [
    "### Basic Searching"
   ]
  },
  {
   "attachments": {},
   "cell_type": "markdown",
   "metadata": {},
   "source": [
    "#### Library Imports"
   ]
  },
  {
   "cell_type": "code",
   "execution_count": null,
   "metadata": {},
   "outputs": [],
   "source": [
    "import math"
   ]
  },
  {
   "attachments": {},
   "cell_type": "markdown",
   "metadata": {},
   "source": [
    "#### Test Cases"
   ]
  },
  {
   "cell_type": "code",
   "execution_count": 104,
   "metadata": {},
   "outputs": [],
   "source": [
    "tests = [\n",
    "    {\n",
    "        \"i\": {\n",
    "            \"cards\": [2, 4, 6, 9, 10],\n",
    "            \"query\": 4\n",
    "        },\n",
    "        \"o\": 1\n",
    "    },\n",
    "    {\n",
    "        \"i\": {\n",
    "            \"cards\": [],\n",
    "            \"query\": 4\n",
    "        },\n",
    "        \"o\": -1\n",
    "    },\n",
    "    {\n",
    "        \"i\": {\n",
    "            \"cards\": [2, 4, 6, 9, 10, 11],\n",
    "            \"query\": 1\n",
    "        },\n",
    "        \"o\": -1\n",
    "    },\n",
    "    {\n",
    "        \"i\": {\n",
    "            \"cards\": [2, 4, 6, 9, 10, 12, 12],\n",
    "            \"query\": 10\n",
    "        },\n",
    "        \"o\": 4\n",
    "    },\n",
    "    {\n",
    "        \"i\": {\n",
    "            \"cards\": [2, 2, 2, 4, 4, 6, 6, 6, 7, 7],\n",
    "            \"query\": 3\n",
    "        },\n",
    "        \"o\": -1\n",
    "    },\n",
    "    {\n",
    "        \"i\": {\n",
    "            \"cards\": list(i for i in range(100000)),\n",
    "            \"query\": 90234809\n",
    "        },\n",
    "        \"o\": -1\n",
    "    },\n",
    "    {\n",
    "        \"i\": {\n",
    "            \"cards\": list(i for i in range(100000001)),\n",
    "            \"query\": 9000000\n",
    "        },\n",
    "        \"o\": 9000000\n",
    "    }\n",
    "]"
   ]
  },
  {
   "attachments": {},
   "cell_type": "markdown",
   "metadata": {},
   "source": [
    "#### Misc Functions"
   ]
  },
  {
   "cell_type": "code",
   "execution_count": 107,
   "metadata": {},
   "outputs": [],
   "source": [
    "def evaluate(fn, tests):\n",
    "    res = []\n",
    "    \n",
    "    for test in tests:\n",
    "        temp = fn(**test['i'])\n",
    "        res.append([temp == test['o'], temp, test['o']])\n",
    "        \n",
    "    return res"
   ]
  },
  {
   "attachments": {},
   "cell_type": "markdown",
   "metadata": {},
   "source": [
    "#### Linear Searching"
   ]
  },
  {
   "cell_type": "code",
   "execution_count": 105,
   "metadata": {},
   "outputs": [
    {
     "data": {
      "text/plain": [
       "[True, True, True, True, True, True, True]"
      ]
     },
     "execution_count": 105,
     "metadata": {},
     "output_type": "execute_result"
    }
   ],
   "source": [
    "def linear_search(cards, query):\n",
    "    pos = 0\n",
    "    while pos < len(cards):\n",
    "        if cards[pos] == query:\n",
    "            return pos\n",
    "        pos += 1\n",
    "\n",
    "    return -1\n",
    "\n",
    "evaluate(linear_search, tests)"
   ]
  },
  {
   "attachments": {},
   "cell_type": "markdown",
   "metadata": {},
   "source": [
    "#### Binary Searching"
   ]
  },
  {
   "cell_type": "code",
   "execution_count": 109,
   "metadata": {},
   "outputs": [
    {
     "name": "stdout",
     "output_type": "stream",
     "text": [
      "0 2 4\n",
      "0 0 1\n",
      "0 3 5\n",
      "0 1 2\n",
      "0 3 6\n",
      "4 5 6\n",
      "0 5 9\n",
      "0 2 4\n",
      "3 3 4\n",
      "0 50000 99999\n",
      "50001 75000 99999\n",
      "75001 87500 99999\n",
      "87501 93750 99999\n",
      "93751 96875 99999\n",
      "96876 98437 99999\n",
      "98438 99218 99999\n",
      "99219 99609 99999\n",
      "99610 99804 99999\n",
      "99805 99902 99999\n",
      "99903 99951 99999\n",
      "99952 99975 99999\n",
      "99976 99987 99999\n",
      "99988 99993 99999\n",
      "99994 99996 99999\n",
      "99997 99998 99999\n",
      "0 50000000 100000000\n",
      "0 24999999 49999999\n",
      "0 12499999 24999998\n",
      "0 6249999 12499998\n",
      "6250000 9374999 12499998\n",
      "6250000 7812499 9374998\n",
      "7812500 8593749 9374998\n",
      "8593750 8984374 9374998\n",
      "8984375 9179686 9374998\n",
      "8984375 9082030 9179685\n",
      "8984375 9033202 9082029\n",
      "8984375 9008788 9033201\n",
      "8984375 8996581 9008787\n",
      "8996582 9002684 9008787\n",
      "8996582 8999632 9002683\n",
      "8999633 9001158 9002683\n",
      "8999633 9000395 9001157\n",
      "8999633 9000013 9000394\n",
      "8999633 8999822 9000012\n",
      "8999823 8999917 9000012\n",
      "8999918 8999965 9000012\n",
      "8999966 8999989 9000012\n",
      "8999990 9000001 9000012\n",
      "8999990 8999995 9000000\n",
      "8999996 8999998 9000000\n",
      "8999999 8999999 9000000\n"
     ]
    },
    {
     "data": {
      "text/plain": [
       "[[False, -1, 1],\n",
       " [True, -1, -1],\n",
       " [True, -1, -1],\n",
       " [False, -1, 4],\n",
       " [True, -1, -1],\n",
       " [True, -1, -1],\n",
       " [False, -1, 9000000]]"
      ]
     },
     "execution_count": 109,
     "metadata": {},
     "output_type": "execute_result"
    }
   ],
   "source": [
    "def binary_search(cards, query):\n",
    "    mid = math.floor(len(cards) / 2)\n",
    "    left = 0\n",
    "    right = len(cards) - 1\n",
    "    \n",
    "    while(left < right):        \n",
    "        print(left, mid, right)\n",
    "        if (query == cards[mid]):\n",
    "            return mid\n",
    "        \n",
    "        if query < cards[mid]:\n",
    "            right = mid - 1\n",
    "            mid = math.floor((left + right) / 2)\n",
    "        elif query > cards[mid]:\n",
    "            left = mid + 1\n",
    "            mid = math.floor((left + right) / 2)\n",
    "            \n",
    "    return -1\n",
    "            \n",
    "    \n",
    "evaluate(binary_search, tests)"
   ]
  }
 ],
 "metadata": {
  "kernelspec": {
   "display_name": "Python 3",
   "language": "python",
   "name": "python3"
  },
  "language_info": {
   "codemirror_mode": {
    "name": "ipython",
    "version": 3
   },
   "file_extension": ".py",
   "mimetype": "text/x-python",
   "name": "python",
   "nbconvert_exporter": "python",
   "pygments_lexer": "ipython3",
   "version": "3.11.3"
  },
  "orig_nbformat": 4
 },
 "nbformat": 4,
 "nbformat_minor": 2
}
